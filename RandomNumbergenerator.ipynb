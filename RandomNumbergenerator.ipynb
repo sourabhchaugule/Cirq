{
  "nbformat": 4,
  "nbformat_minor": 0,
  "metadata": {
    "colab": {
      "provenance": []
    },
    "kernelspec": {
      "name": "python3",
      "display_name": "Python 3"
    },
    "language_info": {
      "name": "python"
    }
  },
  "cells": [
    {
      "cell_type": "code",
      "source": [
        "import cirq"
      ],
      "metadata": {
        "id": "mkNBlthByNld"
      },
      "execution_count": 30,
      "outputs": []
    },
    {
      "cell_type": "code",
      "source": [
        "import numpy as np"
      ],
      "metadata": {
        "id": "1jotWMIgGbAO"
      },
      "execution_count": 31,
      "outputs": []
    },
    {
      "cell_type": "code",
      "source": [
        "class QuantumRandomGenerator:\n",
        "    measurement_gate_name = 'qrng_measure'\n",
        "    qubit_name_prefix = 'qrng_'\n",
        "\n",
        "    def __init__(self , simulator=None):\n",
        "        if simulator is None:\n",
        "            simulator = cirq.Simulator()\n",
        "        self.simulator = simulator\n",
        "\n",
        "    def generate_binary_array(self , length: int) -> np.ndarray:\n",
        "        # Create a list of qubits with the given length and prefix\n",
        "        qubits = [cirq.NamedQubit(f\"{QuantumRandomGenerator.qubit_name_prefix}{i}\") for i in range(length)]\n",
        "\n",
        "        # Apply Hadamard gates to each qubit\n",
        "        h_gates = [cirq.H(qubit) for qubit in qubits]\n",
        "\n",
        "        # Measure the qubits\n",
        "        measurement = cirq.measure(*qubits, key=QuantumRandomGenerator.qubit_name_prefix)\n",
        "\n",
        "        # Construct the circuit\n",
        "        qrng_circuit = cirq.Circuit(h_gates, measurement)\n",
        "        print(qrng_circuit)\n",
        "\n",
        "        # Simulate the circuit\n",
        "        result = self.simulator.run(qrng_circuit)\n",
        "\n",
        "        # Get the binary array from the measurement result\n",
        "        binary_array = result.measurements[QuantumRandomGenerator.qubit_name_prefix].astype(np.int32)\n",
        "\n",
        "        # Convert the binary array to a string\n",
        "        binary_string = ''.join(map(str, binary_array[0]))  # Assuming the result is a 1D array\n",
        "\n",
        "        # Convert the binary string to a decimal number\n",
        "        decimal_value = int(binary_string, 2)\n",
        "\n",
        "        return binary_string, decimal_value\n"
      ],
      "metadata": {
        "id": "vvFSpZUiKeJc"
      },
      "execution_count": 53,
      "outputs": []
    },
    {
      "cell_type": "code",
      "source": [
        "qrng = QuantumRandomGenerator()\n",
        "#print(qrng.generate_binary_array(10))\n",
        "binary_str, decimal_value = qrng.generate_binary_array(10)  # Example with 3 qubits\n",
        "print(f\"Binary String: {binary_str}\")\n",
        "print(f\"Decimal Value: {decimal_value}\")"
      ],
      "metadata": {
        "colab": {
          "base_uri": "https://localhost:8080/"
        },
        "id": "Q7-YXhO4MvIY",
        "outputId": "6a1de87b-4a83-4751-f94c-3a572555ee85"
      },
      "execution_count": 54,
      "outputs": [
        {
          "output_type": "stream",
          "name": "stdout",
          "text": [
            "qrng_0: ───H───M('qrng_')───\n",
            "               │\n",
            "qrng_1: ───H───M────────────\n",
            "               │\n",
            "qrng_2: ───H───M────────────\n",
            "               │\n",
            "qrng_3: ───H───M────────────\n",
            "               │\n",
            "qrng_4: ───H───M────────────\n",
            "               │\n",
            "qrng_5: ───H───M────────────\n",
            "               │\n",
            "qrng_6: ───H───M────────────\n",
            "               │\n",
            "qrng_7: ───H───M────────────\n",
            "               │\n",
            "qrng_8: ───H───M────────────\n",
            "               │\n",
            "qrng_9: ───H───M────────────\n",
            "Binary String: 1111111010\n",
            "Decimal Value: 1018\n"
          ]
        }
      ]
    },
    {
      "cell_type": "code",
      "source": [],
      "metadata": {
        "id": "6zgUHY9LPmY5"
      },
      "execution_count": 38,
      "outputs": []
    }
  ]
}